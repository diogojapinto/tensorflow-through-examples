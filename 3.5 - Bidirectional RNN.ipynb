{
 "cells": [
  {
   "cell_type": "markdown",
   "metadata": {},
   "source": [
    "# A Bidirectional Recurrent Neural Network (LSTM) implementation using Tensorflow Library\n",
    "\n",
    "[paper](http://deeplearning.cs.cmu.edu/pdfs/Hochreiter97_lstm.pdf)"
   ]
  },
  {
   "cell_type": "code",
   "execution_count": 4,
   "metadata": {
    "collapsed": true
   },
   "outputs": [],
   "source": [
    "import tensorflow as tf\n",
    "from tensorflow.examples.tutorials.mnist import input_data\n",
    "\n",
    "import numpy as np"
   ]
  },
  {
   "cell_type": "markdown",
   "metadata": {},
   "source": [
    "## Import MNIST Dataset"
   ]
  },
  {
   "cell_type": "code",
   "execution_count": 5,
   "metadata": {
    "collapsed": false
   },
   "outputs": [
    {
     "name": "stdout",
     "output_type": "stream",
     "text": [
      "Successfully downloaded train-images-idx3-ubyte.gz 9912422 bytes.\n",
      "Extracting /tmp/data/train-images-idx3-ubyte.gz\n",
      "Successfully downloaded train-labels-idx1-ubyte.gz 28881 bytes.\n",
      "Extracting /tmp/data/train-labels-idx1-ubyte.gz\n",
      "Successfully downloaded t10k-images-idx3-ubyte.gz 1648877 bytes.\n",
      "Extracting /tmp/data/t10k-images-idx3-ubyte.gz\n",
      "Successfully downloaded t10k-labels-idx1-ubyte.gz 4542 bytes.\n",
      "Extracting /tmp/data/t10k-labels-idx1-ubyte.gz\n"
     ]
    }
   ],
   "source": [
    "mnist = input_data.read_data_sets(\"/tmp/data/\", one_hot=True)"
   ]
  },
  {
   "cell_type": "markdown",
   "metadata": {},
   "source": [
    "To classify images using bidirectional recurrent neural network, we consider every image row as aa sequence of pixels.\n",
    "\n",
    "Because MNIST image shape is 28*28px, we will handle 28 seuqences of 28 steps for every sample."
   ]
  },
  {
   "cell_type": "markdown",
   "metadata": {},
   "source": [
    "## Parameters"
   ]
  },
  {
   "cell_type": "code",
   "execution_count": 6,
   "metadata": {
    "collapsed": true
   },
   "outputs": [],
   "source": [
    "learning_rate = 0.001\n",
    "training_iters = 100000\n",
    "batch_size = 128\n",
    "display_step = 10"
   ]
  },
  {
   "cell_type": "markdown",
   "metadata": {},
   "source": [
    "## Network Parameters"
   ]
  },
  {
   "cell_type": "code",
   "execution_count": 7,
   "metadata": {
    "collapsed": true
   },
   "outputs": [],
   "source": [
    "n_input = 28 # MNIST data input (img shape: 28*28)\n",
    "n_steps = 28 # timesteps\n",
    "n_hidden = 128 # hidden layer num of features\n",
    "n_classes = 10 # MNIST total classes (0-9 digits)"
   ]
  },
  {
   "cell_type": "markdown",
   "metadata": {},
   "source": [
    "## tf Graph input"
   ]
  },
  {
   "cell_type": "code",
   "execution_count": 8,
   "metadata": {
    "collapsed": false
   },
   "outputs": [],
   "source": [
    "x = tf.placeholder(tf.float32, [None, n_steps, n_input])\n",
    "# Tensorflow LSTM cell requires 2x n_hidden length (state & cell)\n",
    "istate_fw = tf.placeholder(tf.float32, [None, 2*n_hidden])\n",
    "istate_bw = tf.placeholder(tf.float32, [None, 2*n_hidden])\n",
    "y = tf.placeholder(tf.float32, [None, n_classes])"
   ]
  },
  {
   "cell_type": "markdown",
   "metadata": {},
   "source": [
    "## Define weights and biases"
   ]
  },
  {
   "cell_type": "code",
   "execution_count": 10,
   "metadata": {
    "collapsed": false
   },
   "outputs": [],
   "source": [
    "weights = {\n",
    "    'hidden': tf.Variable(tf.random_normal([n_input, 2*n_hidden])),\n",
    "    'out': tf.Variable(tf.random_normal([2*n_hidden, n_classes]))\n",
    "}"
   ]
  },
  {
   "cell_type": "code",
   "execution_count": 11,
   "metadata": {
    "collapsed": true
   },
   "outputs": [],
   "source": [
    "biases = {\n",
    "    'hidden': tf.Variable(tf.random_normal([2*n_hidden])),\n",
    "    'out': tf.Variable(tf.random_normal([n_classes]))\n",
    "}"
   ]
  },
  {
   "cell_type": "markdown",
   "metadata": {},
   "source": [
    "## Build model"
   ]
  },
  {
   "cell_type": "code",
   "execution_count": 15,
   "metadata": {
    "collapsed": true
   },
   "outputs": [],
   "source": [
    "def BiRNN(_X, _istate_fw, _istate_bw, _weights, _biases):\n",
    "    \n",
    "    # input shape: (batch_size, n_steps, n_input)\n",
    "    _X = tf.transpose(_X, [1, 0, 2]) # permute n_steps and batch_size\n",
    "    # reshape to prepare input to hidden activation\n",
    "    _X = tf.reshape(_X, [-1, n_input]) # (n_steps*batch_size, n_input)\n",
    "    # Linear activation\n",
    "    _X = tf.matmul(_X, _weights['hidden']) + biases['hidden']\n",
    "    \n",
    "    # Define lstm cells with tensorflow\n",
    "    # Forward direction cell\n",
    "    lstm_fw_cell = tf.nn.rnn_cell.BasicLSTMCell(n_hidden, forget_bias=1.)\n",
    "    # Backward direction cell\n",
    "    lstm_bw_cell = tf.nn.rnn_cell.BasicLSTMCell(n_hidden, forget_bias=1.)\n",
    "    \n",
    "    # Split data because rnn  cell needs a list of inputs for the RNN inner loop\n",
    "    _X = tf.split(0, n_steps, _X) # n_steps * (batch_size, n_hidden)\n",
    "    \n",
    "    # Get lstm cell output-\n",
    "    outputs = tf.nn.bidirectional_rnn(lstm_fw_cell, lstm_bw_cell, _X,\n",
    "                                          initial_state_fw=istate_fw,\n",
    "                                          initial_state_bw=istate_bw)\n",
    "    \n",
    "    # Linear activation\n",
    "    # Get inner loop last output\n",
    "    return tf.matmul(outputs[-1], _weights['out']) + _biases['out']"
   ]
  },
  {
   "cell_type": "code",
   "execution_count": 16,
   "metadata": {
    "collapsed": false
   },
   "outputs": [],
   "source": [
    "pred = BiRNN(x, istate_fw, istate_bw, weights, biases)"
   ]
  },
  {
   "cell_type": "markdown",
   "metadata": {},
   "source": [
    "## Define loss and optimizer"
   ]
  },
  {
   "cell_type": "code",
   "execution_count": 17,
   "metadata": {
    "collapsed": true
   },
   "outputs": [],
   "source": [
    "cost = tf.reduce_mean(tf.nn.softmax_cross_entropy_with_logits(pred, y)) # Softmax loss"
   ]
  },
  {
   "cell_type": "code",
   "execution_count": 18,
   "metadata": {
    "collapsed": true
   },
   "outputs": [],
   "source": [
    "optimizer = tf.train.AdamOptimizer(learning_rate=learning_rate).minimize(cost) # Adam optimizer"
   ]
  },
  {
   "cell_type": "markdown",
   "metadata": {},
   "source": [
    "## Evaluate the model"
   ]
  },
  {
   "cell_type": "code",
   "execution_count": 20,
   "metadata": {
    "collapsed": false
   },
   "outputs": [],
   "source": [
    "correct_pred = tf.equal(tf.argmax(pred, 1), tf.argmax(y, 1))\n",
    "accuracy = tf.reduce_mean(tf.cast(correct_pred, tf.float32))"
   ]
  },
  {
   "cell_type": "markdown",
   "metadata": {},
   "source": [
    "## Initialize the variables"
   ]
  },
  {
   "cell_type": "code",
   "execution_count": 21,
   "metadata": {
    "collapsed": true
   },
   "outputs": [],
   "source": [
    "init = tf.initialize_all_variables()"
   ]
  },
  {
   "cell_type": "markdown",
   "metadata": {},
   "source": [
    "## Launch the graph"
   ]
  },
  {
   "cell_type": "code",
   "execution_count": 27,
   "metadata": {
    "collapsed": false
   },
   "outputs": [
    {
     "name": "stdout",
     "output_type": "stream",
     "text": [
      "Iter 1280, Minibatch Loss=10.846947, Training Accuracy= 0.28906\n",
      "Iter 2560, Minibatch Loss=3.773214, Training Accuracy= 0.28125\n",
      "Iter 3840, Minibatch Loss=1.720959, Training Accuracy= 0.46094\n",
      "Iter 5120, Minibatch Loss=1.330209, Training Accuracy= 0.61719\n",
      "Iter 6400, Minibatch Loss=1.154310, Training Accuracy= 0.61719\n",
      "Iter 7680, Minibatch Loss=1.157965, Training Accuracy= 0.61719\n",
      "Iter 8960, Minibatch Loss=0.950154, Training Accuracy= 0.66406\n",
      "Iter 10240, Minibatch Loss=0.857125, Training Accuracy= 0.71094\n",
      "Iter 11520, Minibatch Loss=0.769878, Training Accuracy= 0.75000\n",
      "Iter 12800, Minibatch Loss=0.801022, Training Accuracy= 0.74219\n",
      "Iter 14080, Minibatch Loss=0.811657, Training Accuracy= 0.70312\n",
      "Iter 15360, Minibatch Loss=0.870333, Training Accuracy= 0.71094\n",
      "Iter 16640, Minibatch Loss=0.731207, Training Accuracy= 0.73438\n",
      "Iter 17920, Minibatch Loss=0.652006, Training Accuracy= 0.80469\n",
      "Iter 19200, Minibatch Loss=0.645484, Training Accuracy= 0.77344\n",
      "Iter 20480, Minibatch Loss=0.521848, Training Accuracy= 0.81250\n",
      "Iter 21760, Minibatch Loss=0.636408, Training Accuracy= 0.80469\n",
      "Iter 23040, Minibatch Loss=0.499957, Training Accuracy= 0.84375\n",
      "Iter 24320, Minibatch Loss=0.544662, Training Accuracy= 0.78906\n",
      "Iter 25600, Minibatch Loss=0.591736, Training Accuracy= 0.81250\n",
      "Iter 26880, Minibatch Loss=0.565965, Training Accuracy= 0.78906\n",
      "Iter 28160, Minibatch Loss=0.511159, Training Accuracy= 0.81250\n",
      "Iter 29440, Minibatch Loss=0.569192, Training Accuracy= 0.83594\n",
      "Iter 30720, Minibatch Loss=0.432100, Training Accuracy= 0.87500\n",
      "Iter 32000, Minibatch Loss=0.380308, Training Accuracy= 0.85156\n",
      "Iter 33280, Minibatch Loss=0.516152, Training Accuracy= 0.85938\n",
      "Iter 34560, Minibatch Loss=0.450183, Training Accuracy= 0.82031\n",
      "Iter 35840, Minibatch Loss=0.369157, Training Accuracy= 0.84375\n",
      "Iter 37120, Minibatch Loss=0.434638, Training Accuracy= 0.88281\n",
      "Iter 38400, Minibatch Loss=0.636616, Training Accuracy= 0.82031\n",
      "Iter 39680, Minibatch Loss=0.384935, Training Accuracy= 0.86719\n",
      "Iter 40960, Minibatch Loss=0.308127, Training Accuracy= 0.89062\n",
      "Iter 42240, Minibatch Loss=0.381033, Training Accuracy= 0.86719\n",
      "Iter 43520, Minibatch Loss=0.382578, Training Accuracy= 0.89062\n",
      "Iter 44800, Minibatch Loss=0.540544, Training Accuracy= 0.84375\n",
      "Iter 46080, Minibatch Loss=0.186409, Training Accuracy= 0.92969\n",
      "Iter 47360, Minibatch Loss=0.577659, Training Accuracy= 0.85156\n",
      "Iter 48640, Minibatch Loss=0.331991, Training Accuracy= 0.89062\n",
      "Iter 49920, Minibatch Loss=0.312224, Training Accuracy= 0.90625\n",
      "Iter 51200, Minibatch Loss=0.352209, Training Accuracy= 0.87500\n",
      "Iter 52480, Minibatch Loss=0.441821, Training Accuracy= 0.84375\n",
      "Iter 53760, Minibatch Loss=0.347432, Training Accuracy= 0.89844\n",
      "Iter 55040, Minibatch Loss=0.336942, Training Accuracy= 0.88281\n",
      "Iter 56320, Minibatch Loss=0.227690, Training Accuracy= 0.96094\n",
      "Iter 57600, Minibatch Loss=0.187139, Training Accuracy= 0.95312\n",
      "Iter 58880, Minibatch Loss=0.295170, Training Accuracy= 0.89844\n",
      "Iter 60160, Minibatch Loss=0.188832, Training Accuracy= 0.93750\n",
      "Iter 61440, Minibatch Loss=0.393468, Training Accuracy= 0.86719\n",
      "Iter 62720, Minibatch Loss=0.308402, Training Accuracy= 0.89844\n",
      "Iter 64000, Minibatch Loss=0.362298, Training Accuracy= 0.87500\n",
      "Iter 65280, Minibatch Loss=0.206931, Training Accuracy= 0.92969\n",
      "Iter 66560, Minibatch Loss=0.172455, Training Accuracy= 0.93750\n",
      "Iter 67840, Minibatch Loss=0.224503, Training Accuracy= 0.93750\n",
      "Iter 69120, Minibatch Loss=0.245519, Training Accuracy= 0.93750\n",
      "Iter 70400, Minibatch Loss=0.241019, Training Accuracy= 0.92188\n",
      "Iter 71680, Minibatch Loss=0.273720, Training Accuracy= 0.89062\n",
      "Iter 72960, Minibatch Loss=0.167988, Training Accuracy= 0.95312\n",
      "Iter 74240, Minibatch Loss=0.231587, Training Accuracy= 0.92969\n",
      "Iter 75520, Minibatch Loss=0.277610, Training Accuracy= 0.89844\n",
      "Iter 76800, Minibatch Loss=0.373198, Training Accuracy= 0.86719\n",
      "Iter 78080, Minibatch Loss=0.425610, Training Accuracy= 0.89844\n",
      "Iter 79360, Minibatch Loss=0.202210, Training Accuracy= 0.92969\n",
      "Iter 80640, Minibatch Loss=0.187643, Training Accuracy= 0.93750\n",
      "Iter 81920, Minibatch Loss=0.166720, Training Accuracy= 0.94531\n",
      "Iter 83200, Minibatch Loss=0.234223, Training Accuracy= 0.93750\n",
      "Iter 84480, Minibatch Loss=0.262484, Training Accuracy= 0.96094\n",
      "Iter 85760, Minibatch Loss=0.178170, Training Accuracy= 0.95312\n",
      "Iter 87040, Minibatch Loss=0.327278, Training Accuracy= 0.91406\n",
      "Iter 88320, Minibatch Loss=0.237084, Training Accuracy= 0.90625\n",
      "Iter 89600, Minibatch Loss=0.241088, Training Accuracy= 0.92188\n",
      "Iter 90880, Minibatch Loss=0.289226, Training Accuracy= 0.90625\n",
      "Iter 92160, Minibatch Loss=0.347560, Training Accuracy= 0.89844\n",
      "Iter 93440, Minibatch Loss=0.252450, Training Accuracy= 0.91406\n",
      "Iter 94720, Minibatch Loss=0.301638, Training Accuracy= 0.89844\n",
      "Iter 96000, Minibatch Loss=0.114106, Training Accuracy= 0.96094\n",
      "Iter 97280, Minibatch Loss=0.301849, Training Accuracy= 0.89844\n",
      "Iter 98560, Minibatch Loss=0.284066, Training Accuracy= 0.92188\n",
      "Iter 99840, Minibatch Loss=0.173962, Training Accuracy= 0.93750\n",
      "Optimization Finished!\n",
      "Testing Accuracy: 0.9375\n"
     ]
    }
   ],
   "source": [
    "with tf.Session() as sess:\n",
    "    sess.run(init)\n",
    "    step = 1\n",
    "    \n",
    "    while step * batch_size < training_iters:\n",
    "        batch_xs, batch_ys = mnist.train.next_batch(batch_size)\n",
    "        # Reshape data to get 28 seq of 28 elements\n",
    "        batch_xs = batch_xs.reshape((batch_size, n_steps, n_input))\n",
    "        # Fit training using batch data\n",
    "        sess.run(optimizer, feed_dict={x: batch_xs, y: batch_ys,\n",
    "                                       istate_fw: np.zeros((batch_size, 2*n_hidden)),\n",
    "                                       istate_bw: np.zeros((batch_size, 2*n_hidden))})\n",
    "        \n",
    "        if step % display_step == 0:\n",
    "            # Calculate batch accuracy\n",
    "            acc = sess.run(accuracy, feed_dict={x: batch_xs, y: batch_ys,\n",
    "                                                istate_fw: np.zeros((batch_size, 2*n_hidden)),\n",
    "                                                istate_bw: np.zeros((batch_size, 2*n_hidden))})\n",
    "            # Calculate batch loss\n",
    "            loss = sess.run(cost, feed_dict={x: batch_xs, y: batch_ys,\n",
    "                                             istate_fw: np.zeros((batch_size, 2*n_hidden)),\n",
    "                                             istate_bw: np.zeros((batch_size, 2*n_hidden))})\n",
    "            print(\"Iter {}, Minibatch Loss={:.6f}, Training Accuracy= {:.5f}\".format(step*batch_size, loss, acc))\n",
    "        step += 1\n",
    "        \n",
    "    print(\"Optimization Finished!\")\n",
    "    # Calculate accuracy for 128 mnist test images\n",
    "    test_len = 128\n",
    "    test_data = mnist.test.images[:test_len].reshape((-1, n_steps, n_input))\n",
    "    test_label = mnist.test.labels[:test_len]\n",
    "    test_acc = sess.run(accuracy, feed_dict={x: test_data, y: test_label, \n",
    "                                             istate_fw: np.zeros((test_len, 2*n_hidden)),\n",
    "                                             istate_bw: np.zeros((test_len, 2*n_hidden))})\n",
    "    print(\"Testing Accuracy: {}\".format(test_acc))"
   ]
  },
  {
   "cell_type": "code",
   "execution_count": null,
   "metadata": {
    "collapsed": true
   },
   "outputs": [],
   "source": []
  }
 ],
 "metadata": {
  "kernelspec": {
   "display_name": "Python 3",
   "language": "python",
   "name": "python3"
  },
  "language_info": {
   "codemirror_mode": {
    "name": "ipython",
    "version": 3
   },
   "file_extension": ".py",
   "mimetype": "text/x-python",
   "name": "python",
   "nbconvert_exporter": "python",
   "pygments_lexer": "ipython3",
   "version": "3.4.4"
  }
 },
 "nbformat": 4,
 "nbformat_minor": 0
}
