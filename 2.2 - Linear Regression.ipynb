{
 "cells": [
  {
   "cell_type": "markdown",
   "metadata": {},
   "source": [
    "A linear regression learning algorithm example using TensorFlow."
   ]
  },
  {
   "cell_type": "code",
   "execution_count": 1,
   "metadata": {
    "collapsed": false
   },
   "outputs": [],
   "source": [
    "import matplotlib.pyplot as plt\n",
    "%matplotlib inline\n",
    "\n",
    "import tensorflow as tf\n",
    "import numpy as np"
   ]
  },
  {
   "cell_type": "code",
   "execution_count": 3,
   "metadata": {
    "collapsed": true
   },
   "outputs": [],
   "source": [
    "rng = np.random"
   ]
  },
  {
   "cell_type": "markdown",
   "metadata": {},
   "source": [
    "Parameters"
   ]
  },
  {
   "cell_type": "code",
   "execution_count": 4,
   "metadata": {
    "collapsed": true
   },
   "outputs": [],
   "source": [
    "learning_rate = 0.01\n",
    "training_epochs = 2000\n",
    "display_step = 50"
   ]
  },
  {
   "cell_type": "markdown",
   "metadata": {},
   "source": [
    "Training data"
   ]
  },
  {
   "cell_type": "code",
   "execution_count": 5,
   "metadata": {
    "collapsed": false
   },
   "outputs": [],
   "source": [
    "train_X = np.asarray([3.3,4.4,5.5,6.71,6.93,4.168,9.779,6.182,7.59,2.167,7.042,10.791,5.313,7.997,5.654,9.27,3.1])\n",
    "train_Y = np.asarray([1.7,2.76,2.09,3.19,1.694,1.573,3.366,2.596,2.53,1.221,2.827,3.465,1.65,2.904,2.42,2.94,1.3])"
   ]
  },
  {
   "cell_type": "code",
   "execution_count": 6,
   "metadata": {
    "collapsed": true
   },
   "outputs": [],
   "source": [
    "n_samples = train_X.shape[0]"
   ]
  },
  {
   "cell_type": "markdown",
   "metadata": {},
   "source": [
    "tf Graph input"
   ]
  },
  {
   "cell_type": "code",
   "execution_count": 7,
   "metadata": {
    "collapsed": true
   },
   "outputs": [],
   "source": [
    "X = tf.placeholder('float')\n",
    "Y = tf.placeholder('float')"
   ]
  },
  {
   "cell_type": "markdown",
   "metadata": {},
   "source": [
    "### Create the model"
   ]
  },
  {
   "cell_type": "markdown",
   "metadata": {},
   "source": [
    "Set model weights"
   ]
  },
  {
   "cell_type": "code",
   "execution_count": 8,
   "metadata": {
    "collapsed": true
   },
   "outputs": [],
   "source": [
    "W = tf.Variable(rng.randn(), name='weight')\n",
    "b = tf.Variable(rng.randn(), name='bias')"
   ]
  },
  {
   "cell_type": "markdown",
   "metadata": {},
   "source": [
    "Construct a linear model"
   ]
  },
  {
   "cell_type": "code",
   "execution_count": 9,
   "metadata": {
    "collapsed": true
   },
   "outputs": [],
   "source": [
    "activation = tf.add(tf.mul(W, X), b)"
   ]
  },
  {
   "cell_type": "markdown",
   "metadata": {},
   "source": [
    "Minimize the squared errors (L2 loss)"
   ]
  },
  {
   "cell_type": "code",
   "execution_count": 10,
   "metadata": {
    "collapsed": true
   },
   "outputs": [],
   "source": [
    "cost = tf.reduce_sum(tf.div(tf.pow(tf.sub(activation, Y), 2), 2 * n_samples))"
   ]
  },
  {
   "cell_type": "markdown",
   "metadata": {},
   "source": [
    "Gradient Descent"
   ]
  },
  {
   "cell_type": "code",
   "execution_count": 11,
   "metadata": {
    "collapsed": true
   },
   "outputs": [],
   "source": [
    "optimizer = tf.train.GradientDescentOptimizer(learning_rate).minimize(cost)"
   ]
  },
  {
   "cell_type": "markdown",
   "metadata": {},
   "source": [
    "Initializing the variables"
   ]
  },
  {
   "cell_type": "code",
   "execution_count": 12,
   "metadata": {
    "collapsed": true
   },
   "outputs": [],
   "source": [
    "init = tf.initialize_all_variables()"
   ]
  },
  {
   "cell_type": "markdown",
   "metadata": {},
   "source": [
    "Launch the graph"
   ]
  },
  {
   "cell_type": "code",
   "execution_count": 13,
   "metadata": {
    "collapsed": false
   },
   "outputs": [
    {
     "name": "stdout",
     "output_type": "stream",
     "text": [
      "Epoch: 0001 cost=24.306743622 W=-0.8413726091384888 b=1.133292317390442\n",
      "Epoch: 0051 cost=0.089598425 W=0.18712009489536285 b=1.2508962154388428\n",
      "Epoch: 0101 cost=0.088148408 W=0.190836101770401 b=1.22416353225708\n",
      "Epoch: 0151 cost=0.086865656 W=0.19433057308197021 b=1.19902503490448\n",
      "Epoch: 0201 cost=0.085730761 W=0.1976168006658554 b=1.1753839254379272\n",
      "Epoch: 0251 cost=0.084726512 W=0.20070771872997284 b=1.1531480550765991\n",
      "Epoch: 0301 cost=0.083837844 W=0.2036149650812149 b=1.1322333812713623\n",
      "Epoch: 0351 cost=0.083051518 W=0.20634931325912476 b=1.1125627756118774\n",
      "Epoch: 0401 cost=0.082355708 W=0.20892098546028137 b=1.0940625667572021\n",
      "Epoch: 0451 cost=0.081739977 W=0.21133974194526672 b=1.0766618251800537\n",
      "Epoch: 0501 cost=0.081195064 W=0.21361488103866577 b=1.0602948665618896\n",
      "Epoch: 0551 cost=0.080712847 W=0.21575461328029633 b=1.0449016094207764\n",
      "Epoch: 0601 cost=0.080286130 W=0.21776705980300903 b=1.030423879623413\n",
      "Epoch: 0651 cost=0.079908431 W=0.21966005861759186 b=1.0168060064315796\n",
      "Epoch: 0701 cost=0.079574183 W=0.22144044935703278 b=1.003998041152954\n",
      "Epoch: 0751 cost=0.079278372 W=0.22311487793922424 b=0.9919525980949402\n",
      "Epoch: 0801 cost=0.079016529 W=0.2246898114681244 b=0.980622410774231\n",
      "Epoch: 0851 cost=0.078784816 W=0.22617106139659882 b=0.969966471195221\n",
      "Epoch: 0901 cost=0.078579679 W=0.22756427526474 b=0.9599436521530151\n",
      "Epoch: 0951 cost=0.078398168 W=0.2288742959499359 b=0.950519859790802\n",
      "Epoch: 1001 cost=0.078237496 W=0.23010630905628204 b=0.9416565895080566\n",
      "Epoch: 1051 cost=0.078095242 W=0.2312651127576828 b=0.9333202838897705\n",
      "Epoch: 1101 cost=0.077969342 W=0.2323550283908844 b=0.9254794716835022\n",
      "Epoch: 1151 cost=0.077857837 W=0.23338010907173157 b=0.9181049466133118\n",
      "Epoch: 1201 cost=0.077759154 W=0.2343442440032959 b=0.9111689329147339\n",
      "Epoch: 1251 cost=0.077671736 W=0.23525108397006989 b=0.9046456217765808\n",
      "Epoch: 1301 cost=0.077594370 W=0.23610402643680573 b=0.8985095620155334\n",
      "Epoch: 1351 cost=0.077525832 W=0.23690621554851532 b=0.8927384614944458\n",
      "Epoch: 1401 cost=0.077465139 W=0.23766078054904938 b=0.8873102068901062\n",
      "Epoch: 1451 cost=0.077411398 W=0.23837046325206757 b=0.8822050094604492\n",
      "Epoch: 1501 cost=0.077363789 W=0.23903794586658478 b=0.8774029612541199\n",
      "Epoch: 1551 cost=0.077321611 W=0.2396657019853592 b=0.8728868961334229\n",
      "Epoch: 1601 cost=0.077284247 W=0.24025623500347137 b=0.8686386346817017\n",
      "Epoch: 1651 cost=0.077251174 W=0.2408115714788437 b=0.8646436929702759\n",
      "Epoch: 1701 cost=0.077221856 W=0.24133382737636566 b=0.860886812210083\n",
      "Epoch: 1751 cost=0.077195860 W=0.24182510375976562 b=0.8573523759841919\n",
      "Epoch: 1801 cost=0.077172846 W=0.24228711426258087 b=0.8540287613868713\n",
      "Epoch: 1851 cost=0.077152431 W=0.24272172152996063 b=0.8509019613265991\n",
      "Epoch: 1901 cost=0.077134348 W=0.2431304156780243 b=0.8479620814323425\n",
      "Epoch: 1951 cost=0.077118322 W=0.24351491034030914 b=0.8451958298683167\n",
      "Optimization finished!\n",
      "cost=0.0771043673157692 W=0.24386949837207794 b=0.8426452279090881\n"
     ]
    }
   ],
   "source": [
    "lr_W = None\n",
    "lr_b = None\n",
    "lr_cost = np.array([])\n",
    "\n",
    "with tf.Session() as sess:\n",
    "    sess.run(init)\n",
    "    \n",
    "    # Fit all training data\n",
    "    for epoch in range(training_epochs):\n",
    "        for (x, y) in zip(train_X, train_Y):\n",
    "            sess.run(optimizer, feed_dict={X: x, Y: y})\n",
    "        \n",
    "        # Display logs for epoch step\n",
    "        if epoch % display_step == 0:\n",
    "            \n",
    "            lr_cost = np.append(lr_cost, sess.run(cost, feed_dict={X: train_X, Y: train_Y}))\n",
    "            \n",
    "            print(\"Epoch: {:04d} cost={:.9f} W={} b={}\".format(epoch + 1,\n",
    "                                                               sess.run(cost, feed_dict={X: train_X, Y: train_Y}),\n",
    "                                                               sess.run(W),\n",
    "                                                               sess.run(b)\n",
    "                                                              ))\n",
    "        \n",
    "    print(\"Optimization finished!\")\n",
    "    \n",
    "    lr_W = sess.run(W)\n",
    "    lr_b = sess.run(b)\n",
    "    \n",
    "    print(\"cost={} W={} b={}\".format(sess.run(cost, feed_dict={X: train_X, Y: train_Y}),\n",
    "                                     sess.run(W),\n",
    "                                     sess.run(b)\n",
    "                                    ))\n",
    "    \n",
    "    "
   ]
  },
  {
   "cell_type": "markdown",
   "metadata": {},
   "source": [
    "## Graphic Display"
   ]
  },
  {
   "cell_type": "code",
   "execution_count": 23,
   "metadata": {
    "collapsed": false
   },
   "outputs": [
    {
     "data": {
      "text/plain": [
       "<matplotlib.legend.Legend at 0x7fe370208d30>"
      ]
     },
     "execution_count": 23,
     "metadata": {},
     "output_type": "execute_result"
    },
    {
     "data": {
      "image/png": "[encoded data removed]",
      "text/plain": [
       "<matplotlib.figure.Figure at 0x7fe3702b0128>"
      ]
     },
     "metadata": {},
     "output_type": "display_data"
    }
   ],
   "source": [
    "plt.plot(train_X, train_Y, 'ro', label=\"Original data\")\n",
    "plt.plot(train_X, lr_W * train_X + lr_b, 'b-', label=\"Fitted line\")\n",
    "plt.legend()"
   ]
  },
  {
   "cell_type": "code",
   "execution_count": 25,
   "metadata": {
    "collapsed": false
   },
   "outputs": [
    {
     "data": {
      "text/plain": [
       "[<matplotlib.lines.Line2D at 0x7fe37015ae80>]"
      ]
     },
     "execution_count": 25,
     "metadata": {},
     "output_type": "execute_result"
    },
    {
     "data": {
      "image/png": "[encoded data removed]",
      "text/plain": [
       "<matplotlib.figure.Figure at 0x7fe3702814a8>"
      ]
     },
     "metadata": {},
     "output_type": "display_data"
    }
   ],
   "source": [
    "plt.plot(lr_cost, '-')"
   ]
  },
  {
   "cell_type": "code",
   "execution_count": null,
   "metadata": {
    "collapsed": true
   },
   "outputs": [],
   "source": []
  }
 ],
 "metadata": {
  "kernelspec": {
   "display_name": "Python 3",
   "language": "python",
   "name": "python3"
  },
  "language_info": {
   "codemirror_mode": {
    "name": "ipython",
    "version": 3
   },
   "file_extension": ".py",
   "mimetype": "text/x-python",
   "name": "python",
   "nbconvert_exporter": "python",
   "pygments_lexer": "ipython3",
   "version": "3.4.4"
  }
 },
 "nbformat": 4,
 "nbformat_minor": 0
}
