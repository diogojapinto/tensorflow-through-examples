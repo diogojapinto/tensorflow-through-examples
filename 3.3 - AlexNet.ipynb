{
 "cells": [
  {
   "cell_type": "markdown",
   "metadata": {},
   "source": [
    "# AlexNet implementation example using TensorFlow\n",
    "\n",
    "[paper](http://papers.nips.cc/paper/4824-imagenet-classification-with-deep-convolutional-neural-networks.pdf)"
   ]
  },
  {
   "cell_type": "code",
   "execution_count": 1,
   "metadata": {
    "collapsed": true
   },
   "outputs": [],
   "source": [
    "import tensorflow as tf\n",
    "from tensorflow.examples.tutorials.mnist import input_data"
   ]
  },
  {
   "cell_type": "markdown",
   "metadata": {},
   "source": [
    "## Import Mnist dataset"
   ]
  },
  {
   "cell_type": "code",
   "execution_count": 2,
   "metadata": {
    "collapsed": false
   },
   "outputs": [
    {
     "name": "stdout",
     "output_type": "stream",
     "text": [
      "Successfully downloaded train-images-idx3-ubyte.gz 9912422 bytes.\n",
      "Extracting /tmp/data/train-images-idx3-ubyte.gz\n",
      "Successfully downloaded train-labels-idx1-ubyte.gz 28881 bytes.\n",
      "Extracting /tmp/data/train-labels-idx1-ubyte.gz\n",
      "Successfully downloaded t10k-images-idx3-ubyte.gz 1648877 bytes.\n",
      "Extracting /tmp/data/t10k-images-idx3-ubyte.gz\n",
      "Successfully downloaded t10k-labels-idx1-ubyte.gz 4542 bytes.\n",
      "Extracting /tmp/data/t10k-labels-idx1-ubyte.gz\n"
     ]
    }
   ],
   "source": [
    "mnist = input_data.read_data_sets('/tmp/data/', one_hot=True)"
   ]
  },
  {
   "cell_type": "markdown",
   "metadata": {},
   "source": [
    "## Parameters"
   ]
  },
  {
   "cell_type": "code",
   "execution_count": 3,
   "metadata": {
    "collapsed": true
   },
   "outputs": [],
   "source": [
    "learning_rate = 0.001\n",
    "training_iters = 300000\n",
    "batch_size = 64\n",
    "display_step = 100"
   ]
  },
  {
   "cell_type": "markdown",
   "metadata": {},
   "source": [
    "## Network parameters"
   ]
  },
  {
   "cell_type": "code",
   "execution_count": 4,
   "metadata": {
    "collapsed": true
   },
   "outputs": [],
   "source": [
    "n_input = 784 # MNIST data input (img shape = 28*28)\n",
    "n_classes = 10 # MNIST total classes (0-9 digits)\n",
    "dropout = 0.8 # Dropout, probability to keep units"
   ]
  },
  {
   "cell_type": "markdown",
   "metadata": {},
   "source": [
    "## tf Graph input"
   ]
  },
  {
   "cell_type": "code",
   "execution_count": 5,
   "metadata": {
    "collapsed": true
   },
   "outputs": [],
   "source": [
    "x = tf.placeholder(tf.float32, [None, n_input])\n",
    "y = tf.placeholder(tf.float32, [None, n_classes])\n",
    "keep_prob = tf.placeholder(tf.float32) # dropout, keep probability"
   ]
  },
  {
   "cell_type": "markdown",
   "metadata": {},
   "source": [
    "## Create AlexNet model"
   ]
  },
  {
   "cell_type": "code",
   "execution_count": 6,
   "metadata": {
    "collapsed": true
   },
   "outputs": [],
   "source": [
    "def conv2d(name, l_input, w, b):\n",
    "    return tf.nn.relu(tf.nn.bias_add(tf.nn.conv2d(l_input, \n",
    "                                                  w, \n",
    "                                                  strides=[1, 1, 1, 1],\n",
    "                                                  padding='SAME'), \n",
    "                                     b,\n",
    "                                     name=name))"
   ]
  },
  {
   "cell_type": "code",
   "execution_count": 18,
   "metadata": {
    "collapsed": true
   },
   "outputs": [],
   "source": [
    "def max_pool(name, l_input, k):\n",
    "    return tf.nn.max_pool(l_input,\n",
    "                          ksize=[1, k, k, 1],\n",
    "                          strides=[1, k, k, 1],\n",
    "                          padding='SAME',\n",
    "                          name=name)"
   ]
  },
  {
   "cell_type": "code",
   "execution_count": 24,
   "metadata": {
    "collapsed": true
   },
   "outputs": [],
   "source": [
    "def norm(name, l_input, lsize=4):\n",
    "    return tf.nn.lrn(l_input,\n",
    "                     lsize,\n",
    "                     bias=1.0,\n",
    "                     alpha=0.001 / 9.,\n",
    "                     beta=0.75,\n",
    "                     name=name)"
   ]
  },
  {
   "cell_type": "code",
   "execution_count": 25,
   "metadata": {
    "collapsed": true
   },
   "outputs": [],
   "source": [
    "def alex_net(_X, _weights, _biases, _dropout):\n",
    "    \n",
    "    # Reshape input picture\n",
    "    _X = tf.reshape(_X, [-1, 28, 28, 1])\n",
    "    \n",
    "    # Convolution layer\n",
    "    conv1 = conv2d('conv1', _X, _weights['wc1'], _biases['bc1'])\n",
    "    # Max Pooling (down-sampling)\n",
    "    pool1 = max_pool('pool1', conv1, k=2)\n",
    "    # Apply Normalization\n",
    "    norm1 = norm('norm1', pool1, lsize=4)\n",
    "    # Apply Dropout\n",
    "    norm1 = tf.nn.dropout(norm1, _dropout)\n",
    "    \n",
    "    # Convolution layer\n",
    "    conv2 = conv2d('conv2', norm1, _weights['wc2'], _biases['bc2'])\n",
    "    # Max Pooling (down-sampling)\n",
    "    pool2 = max_pool('pool2', conv2, k=2)\n",
    "    # Apply Normalization\n",
    "    norm2 = norm('norm2', pool2, lsize=4)\n",
    "    # Apply Dropout\n",
    "    norm2 = tf.nn.dropout(norm2, _dropout)\n",
    "    \n",
    "    # Convolution layer\n",
    "    conv3 = conv2d('conv3', norm2, _weights['wc3'], _biases['bc3'])\n",
    "    # Max Pooling (down-sampling)\n",
    "    pool3 = max_pool('pool3', conv3, k=2)\n",
    "    # Apply Normalization\n",
    "    norm3 = norm('norm3', pool3, lsize=4)\n",
    "    # Apply Dropout\n",
    "    norm3 = tf.nn.dropout(norm3, _dropout)\n",
    "    \n",
    "    # Fully connected layer\n",
    "    # Reshape conv3 output to fit dense layer input\n",
    "    dense1 = tf.reshape(norm3, [-1, _weights['wd1'].get_shape().as_list()[0]])\n",
    "    # Relu activation\n",
    "    dense1 = tf.nn.relu(tf.matmul(dense1, _weights['wd1']) + _biases['bd1'], name='fc1')\n",
    "    \n",
    "    # Relu activation\n",
    "    dense2 = tf.nn.relu(tf.matmul(dense1, _weights['wd2']) + _biases['bd2'], name='fc2')\n",
    "    \n",
    "    # Output, class prediction\n",
    "    out = tf.matmul(dense2, _weights['out']) + _biases['out']\n",
    "    \n",
    "    return out"
   ]
  },
  {
   "cell_type": "markdown",
   "metadata": {},
   "source": [
    "## Store layers' weights and biases"
   ]
  },
  {
   "cell_type": "code",
   "execution_count": 26,
   "metadata": {
    "collapsed": true
   },
   "outputs": [],
   "source": [
    "weights = {\n",
    "    'wc1': tf.Variable(tf.random_normal([3, 3, 1, 64])),\n",
    "    'wc2': tf.Variable(tf.random_normal([3, 3, 64, 128])),\n",
    "    'wc3': tf.Variable(tf.random_normal([3, 3, 128, 256])),\n",
    "    'wd1': tf.Variable(tf.random_normal([4*4*256, 1024])),\n",
    "    'wd2': tf.Variable(tf.random_normal([1024, 1024])),\n",
    "    'out': tf.Variable(tf.random_normal([1024, 10]))\n",
    "}"
   ]
  },
  {
   "cell_type": "code",
   "execution_count": 29,
   "metadata": {
    "collapsed": true
   },
   "outputs": [],
   "source": [
    "biases = {\n",
    "    'bc1': tf.Variable(tf.random_normal([64])),\n",
    "    'bc2': tf.Variable(tf.random_normal([128])),\n",
    "    'bc3': tf.Variable(tf.random_normal([256])),\n",
    "    'bd1': tf.Variable(tf.random_normal([1024])),\n",
    "    'bd2': tf.Variable(tf.random_normal([1024])),\n",
    "    'out': tf.Variable(tf.random_normal([n_classes]))\n",
    "}"
   ]
  },
  {
   "cell_type": "markdown",
   "metadata": {},
   "source": [
    "## Construct the model"
   ]
  },
  {
   "cell_type": "code",
   "execution_count": 30,
   "metadata": {
    "collapsed": false
   },
   "outputs": [],
   "source": [
    "pred = alex_net(x, weights, biases, keep_prob)"
   ]
  },
  {
   "cell_type": "markdown",
   "metadata": {},
   "source": [
    "## Define loss and optimizer"
   ]
  },
  {
   "cell_type": "code",
   "execution_count": 31,
   "metadata": {
    "collapsed": true
   },
   "outputs": [],
   "source": [
    "cost = tf.reduce_mean(tf.nn.softmax_cross_entropy_with_logits(pred, y))\n",
    "optimizer = tf.train.AdamOptimizer(learning_rate=learning_rate).minimize(cost)"
   ]
  },
  {
   "cell_type": "markdown",
   "metadata": {},
   "source": [
    "## Evaluate the model"
   ]
  },
  {
   "cell_type": "code",
   "execution_count": 32,
   "metadata": {
    "collapsed": true
   },
   "outputs": [],
   "source": [
    "correct_pred = tf.equal(tf.argmax(pred, 1), tf.argmax(y, 1))\n",
    "accuracy = tf.reduce_mean(tf.cast(correct_pred, tf.float32))"
   ]
  },
  {
   "cell_type": "markdown",
   "metadata": {},
   "source": [
    "## Initializing the variables"
   ]
  },
  {
   "cell_type": "code",
   "execution_count": 33,
   "metadata": {
    "collapsed": true
   },
   "outputs": [],
   "source": [
    "init = tf.initialize_all_variables()"
   ]
  },
  {
   "cell_type": "markdown",
   "metadata": {},
   "source": [
    "## Launch the graph"
   ]
  },
  {
   "cell_type": "code",
   "execution_count": 34,
   "metadata": {
    "collapsed": false
   },
   "outputs": [
    {
     "name": "stdout",
     "output_type": "stream",
     "text": [
      "Iter 6400, Minibatch loss= 33809.773438, Training Accuracy= 0.56250\n",
      "Iter 12800, Minibatch loss= 22527.335938, Training Accuracy= 0.62500\n",
      "Iter 19200, Minibatch loss= 11973.410156, Training Accuracy= 0.67188\n",
      "Iter 25600, Minibatch loss= 19344.394531, Training Accuracy= 0.65625\n",
      "Iter 32000, Minibatch loss= 7425.503906, Training Accuracy= 0.75000\n",
      "Iter 38400, Minibatch loss= 5462.512695, Training Accuracy= 0.79688\n",
      "Iter 44800, Minibatch loss= 5546.448242, Training Accuracy= 0.79688\n",
      "Iter 51200, Minibatch loss= 6364.197754, Training Accuracy= 0.82812\n",
      "Iter 57600, Minibatch loss= 3692.698242, Training Accuracy= 0.85938\n",
      "Iter 64000, Minibatch loss= 7789.284668, Training Accuracy= 0.84375\n",
      "Iter 70400, Minibatch loss= 7346.293457, Training Accuracy= 0.79688\n",
      "Iter 76800, Minibatch loss= 3944.713623, Training Accuracy= 0.82812\n",
      "Iter 83200, Minibatch loss= 5050.075195, Training Accuracy= 0.85938\n",
      "Iter 89600, Minibatch loss= 5345.741211, Training Accuracy= 0.87500\n",
      "Iter 96000, Minibatch loss= 2710.572021, Training Accuracy= 0.93750\n",
      "Iter 102400, Minibatch loss= 2378.521973, Training Accuracy= 0.89062\n",
      "Iter 108800, Minibatch loss= 3183.529053, Training Accuracy= 0.92188\n",
      "Iter 115200, Minibatch loss= 1673.251221, Training Accuracy= 0.90625\n",
      "Iter 121600, Minibatch loss= 3203.947754, Training Accuracy= 0.90625\n",
      "Iter 128000, Minibatch loss= 1456.893921, Training Accuracy= 0.93750\n",
      "Iter 134400, Minibatch loss= 1314.722778, Training Accuracy= 0.92188\n",
      "Iter 140800, Minibatch loss= 833.829834, Training Accuracy= 0.95312\n",
      "Iter 147200, Minibatch loss= 1237.993652, Training Accuracy= 0.93750\n",
      "Iter 153600, Minibatch loss= 2332.786377, Training Accuracy= 0.90625\n",
      "Iter 160000, Minibatch loss= 2011.162109, Training Accuracy= 0.93750\n",
      "Iter 166400, Minibatch loss= 1303.922607, Training Accuracy= 0.92188\n",
      "Iter 172800, Minibatch loss= 194.420105, Training Accuracy= 0.96875\n",
      "Iter 179200, Minibatch loss= 2800.866211, Training Accuracy= 0.92188\n",
      "Iter 185600, Minibatch loss= 347.153320, Training Accuracy= 0.98438\n",
      "Iter 192000, Minibatch loss= 498.170776, Training Accuracy= 0.95312\n",
      "Iter 198400, Minibatch loss= 43.735168, Training Accuracy= 0.96875\n",
      "Iter 204800, Minibatch loss= 2213.401855, Training Accuracy= 0.90625\n",
      "Iter 211200, Minibatch loss= 1077.214722, Training Accuracy= 0.93750\n",
      "Iter 217600, Minibatch loss= 411.513306, Training Accuracy= 0.95312\n",
      "Iter 224000, Minibatch loss= 3104.075684, Training Accuracy= 0.93750\n",
      "Iter 230400, Minibatch loss= 1574.195679, Training Accuracy= 0.90625\n",
      "Iter 236800, Minibatch loss= 3211.821533, Training Accuracy= 0.90625\n",
      "Iter 243200, Minibatch loss= 0.000000, Training Accuracy= 1.00000\n",
      "Iter 249600, Minibatch loss= 144.102905, Training Accuracy= 0.98438\n",
      "Iter 256000, Minibatch loss= 0.000000, Training Accuracy= 1.00000\n",
      "Iter 262400, Minibatch loss= 1696.946777, Training Accuracy= 0.93750\n",
      "Iter 268800, Minibatch loss= 1048.111328, Training Accuracy= 0.96875\n",
      "Iter 275200, Minibatch loss= 380.501343, Training Accuracy= 0.98438\n",
      "Iter 281600, Minibatch loss= 732.532471, Training Accuracy= 0.95312\n",
      "Iter 288000, Minibatch loss= 1016.092896, Training Accuracy= 0.95312\n",
      "Iter 294400, Minibatch loss= 2606.587646, Training Accuracy= 0.95312\n",
      "Optimization finished!\n",
      "Testing Accuracy= 0.984375\n"
     ]
    }
   ],
   "source": [
    "with tf.Session() as sess:\n",
    "    sess.run(init)\n",
    "    step = 1\n",
    "    \n",
    "    while step * batch_size < training_iters:\n",
    "        batch_x, batch_y = mnist.train.next_batch(batch_size)\n",
    "        \n",
    "        # Fit training using batch data\n",
    "        sess.run(optimizer, feed_dict={x: batch_x,\n",
    "                                       y: batch_y,\n",
    "                                       keep_prob: dropout})\n",
    "        \n",
    "        if step % display_step == 0:\n",
    "            # Calculate batch accuracy\n",
    "            acc = sess.run(accuracy, feed_dict={x: batch_x,\n",
    "                                                y: batch_y,\n",
    "                                                keep_prob: 1.})\n",
    "            # Calculate batch loss\n",
    "            loss = sess.run(cost, feed_dict={x: batch_x,\n",
    "                                                y: batch_y,\n",
    "                                                keep_prob: 1.})\n",
    "            \n",
    "            print(\"Iter {}, Minibatch loss= {:.6f}, Training Accuracy= {:.5f}\".format(step * batch_size, loss, acc))\n",
    "        \n",
    "        step += 1\n",
    "    \n",
    "    print(\"Optimization finished!\")\n",
    "    # Calculate accuracy for 256 MNIST test images\n",
    "    test_acc = sess.run(accuracy, feed_dict={x: mnist.test.images[:256],\n",
    "                                             y: mnist.test.labels[:256],\n",
    "                                             keep_prob: 1.})\n",
    "    print(\"Testing Accuracy= {}\".format(test_acc))"
   ]
  },
  {
   "cell_type": "code",
   "execution_count": null,
   "metadata": {
    "collapsed": true
   },
   "outputs": [],
   "source": []
  }
 ],
 "metadata": {
  "kernelspec": {
   "display_name": "Python 3",
   "language": "python",
   "name": "python3"
  },
  "language_info": {
   "codemirror_mode": {
    "name": "ipython",
    "version": 3
   },
   "file_extension": ".py",
   "mimetype": "text/x-python",
   "name": "python",
   "nbconvert_exporter": "python",
   "pygments_lexer": "ipython3",
   "version": "3.4.4"
  }
 },
 "nbformat": 4,
 "nbformat_minor": 0
}
